{
 "cells": [
  {
   "cell_type": "code",
   "execution_count": 2,
   "metadata": {},
   "outputs": [
    {
     "name": "stderr",
     "output_type": "stream",
     "text": [
      "Using TensorFlow backend.\n"
     ]
    }
   ],
   "source": [
    "# import a few packages for the project\n",
    "import pandas as pd\n",
    "import matplotlib.pyplot as plt\n",
    "import seaborn as sns\n",
    "import numpy as np\n",
    "from datetime import datetime, date, time\n",
    "\n",
    "#packages for selection model features \n",
    "from sklearn.feature_selection import SelectKBest\n",
    "from sklearn.feature_selection import chi2\n",
    "\n",
    "#packages for model training\n",
    "from sklearn.ensemble import RandomForestClassifier\n",
    "from sklearn.linear_model import LogisticRegression\n",
    "from sklearn.neighbors import KNeighborsClassifier\n",
    "from sklearn.tree import DecisionTreeClassifier\n",
    "from sklearn.ensemble import RandomForestClassifier\n",
    "from sklearn.ensemble import AdaBoostClassifier\n",
    "from sklearn.naive_bayes import GaussianNB\n",
    "from sklearn.svm import SVC\n",
    "from sklearn.naive_bayes import BernoulliNB\n",
    "\n",
    "#additional/service packages for model training\n",
    "from sklearn.preprocessing import StandardScaler\n",
    "from sklearn.pipeline import Pipeline\n",
    "from sklearn.metrics import accuracy_score\n",
    "from sklearn.model_selection import cross_val_score\n",
    "from sklearn.model_selection import GridSearchCV\n",
    "from sklearn import preprocessing\n",
    "\n",
    "#packages for deep learning models\n",
    "from keras.models import Sequential\n",
    "from keras.layers import Dense, Activation\n",
    "from keras.callbacks import EarlyStopping"
   ]
  },
  {
   "cell_type": "code",
   "execution_count": 3,
   "metadata": {},
   "outputs": [],
   "source": [
    "# path\n",
    "path =  'https://raw.githubusercontent.com/user121989/Titanic_Kaggle-project/master/train.csv'\n",
    "path_test = 'https://raw.githubusercontent.com/user121989/Titanic_Kaggle-project/master/test.csv'"
   ]
  },
  {
   "cell_type": "code",
   "execution_count": 4,
   "metadata": {},
   "outputs": [],
   "source": [
    "# loading data\n",
    "train = pd.read_csv(path, index_col='PassengerId')\n",
    "test = pd.read_csv(path_test, index_col='PassengerId')"
   ]
  },
  {
   "cell_type": "markdown",
   "metadata": {},
   "source": [
    "### Step 1. Explaratory Data Analysis\n",
    "Let's reveal what the data set we have"
   ]
  },
  {
   "cell_type": "code",
   "execution_count": 5,
   "metadata": {},
   "outputs": [
    {
     "data": {
      "text/html": [
       "<div>\n",
       "<style scoped>\n",
       "    .dataframe tbody tr th:only-of-type {\n",
       "        vertical-align: middle;\n",
       "    }\n",
       "\n",
       "    .dataframe tbody tr th {\n",
       "        vertical-align: top;\n",
       "    }\n",
       "\n",
       "    .dataframe thead th {\n",
       "        text-align: right;\n",
       "    }\n",
       "</style>\n",
       "<table border=\"1\" class=\"dataframe\">\n",
       "  <thead>\n",
       "    <tr style=\"text-align: right;\">\n",
       "      <th></th>\n",
       "      <th>Survived</th>\n",
       "      <th>Pclass</th>\n",
       "      <th>Name</th>\n",
       "      <th>Sex</th>\n",
       "      <th>Age</th>\n",
       "      <th>SibSp</th>\n",
       "      <th>Parch</th>\n",
       "      <th>Ticket</th>\n",
       "      <th>Fare</th>\n",
       "      <th>Cabin</th>\n",
       "      <th>Embarked</th>\n",
       "    </tr>\n",
       "    <tr>\n",
       "      <th>PassengerId</th>\n",
       "      <th></th>\n",
       "      <th></th>\n",
       "      <th></th>\n",
       "      <th></th>\n",
       "      <th></th>\n",
       "      <th></th>\n",
       "      <th></th>\n",
       "      <th></th>\n",
       "      <th></th>\n",
       "      <th></th>\n",
       "      <th></th>\n",
       "    </tr>\n",
       "  </thead>\n",
       "  <tbody>\n",
       "    <tr>\n",
       "      <th>1</th>\n",
       "      <td>0</td>\n",
       "      <td>3</td>\n",
       "      <td>Braund, Mr. Owen Harris</td>\n",
       "      <td>male</td>\n",
       "      <td>22.0</td>\n",
       "      <td>1</td>\n",
       "      <td>0</td>\n",
       "      <td>A/5 21171</td>\n",
       "      <td>7.2500</td>\n",
       "      <td>NaN</td>\n",
       "      <td>S</td>\n",
       "    </tr>\n",
       "    <tr>\n",
       "      <th>2</th>\n",
       "      <td>1</td>\n",
       "      <td>1</td>\n",
       "      <td>Cumings, Mrs. John Bradley (Florence Briggs Th...</td>\n",
       "      <td>female</td>\n",
       "      <td>38.0</td>\n",
       "      <td>1</td>\n",
       "      <td>0</td>\n",
       "      <td>PC 17599</td>\n",
       "      <td>71.2833</td>\n",
       "      <td>C85</td>\n",
       "      <td>C</td>\n",
       "    </tr>\n",
       "    <tr>\n",
       "      <th>3</th>\n",
       "      <td>1</td>\n",
       "      <td>3</td>\n",
       "      <td>Heikkinen, Miss. Laina</td>\n",
       "      <td>female</td>\n",
       "      <td>26.0</td>\n",
       "      <td>0</td>\n",
       "      <td>0</td>\n",
       "      <td>STON/O2. 3101282</td>\n",
       "      <td>7.9250</td>\n",
       "      <td>NaN</td>\n",
       "      <td>S</td>\n",
       "    </tr>\n",
       "    <tr>\n",
       "      <th>4</th>\n",
       "      <td>1</td>\n",
       "      <td>1</td>\n",
       "      <td>Futrelle, Mrs. Jacques Heath (Lily May Peel)</td>\n",
       "      <td>female</td>\n",
       "      <td>35.0</td>\n",
       "      <td>1</td>\n",
       "      <td>0</td>\n",
       "      <td>113803</td>\n",
       "      <td>53.1000</td>\n",
       "      <td>C123</td>\n",
       "      <td>S</td>\n",
       "    </tr>\n",
       "    <tr>\n",
       "      <th>5</th>\n",
       "      <td>0</td>\n",
       "      <td>3</td>\n",
       "      <td>Allen, Mr. William Henry</td>\n",
       "      <td>male</td>\n",
       "      <td>35.0</td>\n",
       "      <td>0</td>\n",
       "      <td>0</td>\n",
       "      <td>373450</td>\n",
       "      <td>8.0500</td>\n",
       "      <td>NaN</td>\n",
       "      <td>S</td>\n",
       "    </tr>\n",
       "  </tbody>\n",
       "</table>\n",
       "</div>"
      ],
      "text/plain": [
       "             Survived  Pclass  \\\n",
       "PassengerId                     \n",
       "1                   0       3   \n",
       "2                   1       1   \n",
       "3                   1       3   \n",
       "4                   1       1   \n",
       "5                   0       3   \n",
       "\n",
       "                                                          Name     Sex   Age  \\\n",
       "PassengerId                                                                    \n",
       "1                                      Braund, Mr. Owen Harris    male  22.0   \n",
       "2            Cumings, Mrs. John Bradley (Florence Briggs Th...  female  38.0   \n",
       "3                                       Heikkinen, Miss. Laina  female  26.0   \n",
       "4                 Futrelle, Mrs. Jacques Heath (Lily May Peel)  female  35.0   \n",
       "5                                     Allen, Mr. William Henry    male  35.0   \n",
       "\n",
       "             SibSp  Parch            Ticket     Fare Cabin Embarked  \n",
       "PassengerId                                                          \n",
       "1                1      0         A/5 21171   7.2500   NaN        S  \n",
       "2                1      0          PC 17599  71.2833   C85        C  \n",
       "3                0      0  STON/O2. 3101282   7.9250   NaN        S  \n",
       "4                1      0            113803  53.1000  C123        S  \n",
       "5                0      0            373450   8.0500   NaN        S  "
      ]
     },
     "metadata": {},
     "output_type": "display_data"
    },
    {
     "data": {
      "text/html": [
       "<div>\n",
       "<style scoped>\n",
       "    .dataframe tbody tr th:only-of-type {\n",
       "        vertical-align: middle;\n",
       "    }\n",
       "\n",
       "    .dataframe tbody tr th {\n",
       "        vertical-align: top;\n",
       "    }\n",
       "\n",
       "    .dataframe thead th {\n",
       "        text-align: right;\n",
       "    }\n",
       "</style>\n",
       "<table border=\"1\" class=\"dataframe\">\n",
       "  <thead>\n",
       "    <tr style=\"text-align: right;\">\n",
       "      <th></th>\n",
       "      <th>Survived</th>\n",
       "      <th>Pclass</th>\n",
       "      <th>Name</th>\n",
       "      <th>Sex</th>\n",
       "      <th>Age</th>\n",
       "      <th>SibSp</th>\n",
       "      <th>Parch</th>\n",
       "      <th>Ticket</th>\n",
       "      <th>Fare</th>\n",
       "      <th>Cabin</th>\n",
       "      <th>Embarked</th>\n",
       "    </tr>\n",
       "    <tr>\n",
       "      <th>PassengerId</th>\n",
       "      <th></th>\n",
       "      <th></th>\n",
       "      <th></th>\n",
       "      <th></th>\n",
       "      <th></th>\n",
       "      <th></th>\n",
       "      <th></th>\n",
       "      <th></th>\n",
       "      <th></th>\n",
       "      <th></th>\n",
       "      <th></th>\n",
       "    </tr>\n",
       "  </thead>\n",
       "  <tbody>\n",
       "    <tr>\n",
       "      <th>887</th>\n",
       "      <td>0</td>\n",
       "      <td>2</td>\n",
       "      <td>Montvila, Rev. Juozas</td>\n",
       "      <td>male</td>\n",
       "      <td>27.0</td>\n",
       "      <td>0</td>\n",
       "      <td>0</td>\n",
       "      <td>211536</td>\n",
       "      <td>13.00</td>\n",
       "      <td>NaN</td>\n",
       "      <td>S</td>\n",
       "    </tr>\n",
       "    <tr>\n",
       "      <th>888</th>\n",
       "      <td>1</td>\n",
       "      <td>1</td>\n",
       "      <td>Graham, Miss. Margaret Edith</td>\n",
       "      <td>female</td>\n",
       "      <td>19.0</td>\n",
       "      <td>0</td>\n",
       "      <td>0</td>\n",
       "      <td>112053</td>\n",
       "      <td>30.00</td>\n",
       "      <td>B42</td>\n",
       "      <td>S</td>\n",
       "    </tr>\n",
       "    <tr>\n",
       "      <th>889</th>\n",
       "      <td>0</td>\n",
       "      <td>3</td>\n",
       "      <td>Johnston, Miss. Catherine Helen \"Carrie\"</td>\n",
       "      <td>female</td>\n",
       "      <td>NaN</td>\n",
       "      <td>1</td>\n",
       "      <td>2</td>\n",
       "      <td>W./C. 6607</td>\n",
       "      <td>23.45</td>\n",
       "      <td>NaN</td>\n",
       "      <td>S</td>\n",
       "    </tr>\n",
       "    <tr>\n",
       "      <th>890</th>\n",
       "      <td>1</td>\n",
       "      <td>1</td>\n",
       "      <td>Behr, Mr. Karl Howell</td>\n",
       "      <td>male</td>\n",
       "      <td>26.0</td>\n",
       "      <td>0</td>\n",
       "      <td>0</td>\n",
       "      <td>111369</td>\n",
       "      <td>30.00</td>\n",
       "      <td>C148</td>\n",
       "      <td>C</td>\n",
       "    </tr>\n",
       "    <tr>\n",
       "      <th>891</th>\n",
       "      <td>0</td>\n",
       "      <td>3</td>\n",
       "      <td>Dooley, Mr. Patrick</td>\n",
       "      <td>male</td>\n",
       "      <td>32.0</td>\n",
       "      <td>0</td>\n",
       "      <td>0</td>\n",
       "      <td>370376</td>\n",
       "      <td>7.75</td>\n",
       "      <td>NaN</td>\n",
       "      <td>Q</td>\n",
       "    </tr>\n",
       "  </tbody>\n",
       "</table>\n",
       "</div>"
      ],
      "text/plain": [
       "             Survived  Pclass                                      Name  \\\n",
       "PassengerId                                                               \n",
       "887                 0       2                     Montvila, Rev. Juozas   \n",
       "888                 1       1              Graham, Miss. Margaret Edith   \n",
       "889                 0       3  Johnston, Miss. Catherine Helen \"Carrie\"   \n",
       "890                 1       1                     Behr, Mr. Karl Howell   \n",
       "891                 0       3                       Dooley, Mr. Patrick   \n",
       "\n",
       "                Sex   Age  SibSp  Parch      Ticket   Fare Cabin Embarked  \n",
       "PassengerId                                                                \n",
       "887            male  27.0      0      0      211536  13.00   NaN        S  \n",
       "888          female  19.0      0      0      112053  30.00   B42        S  \n",
       "889          female   NaN      1      2  W./C. 6607  23.45   NaN        S  \n",
       "890            male  26.0      0      0      111369  30.00  C148        C  \n",
       "891            male  32.0      0      0      370376   7.75   NaN        Q  "
      ]
     },
     "metadata": {},
     "output_type": "display_data"
    }
   ],
   "source": [
    "display(train.head())\n",
    "display(train.tail())"
   ]
  },
  {
   "cell_type": "code",
   "execution_count": 6,
   "metadata": {
    "scrolled": true
   },
   "outputs": [
    {
     "name": "stdout",
     "output_type": "stream",
     "text": [
      "<class 'pandas.core.frame.DataFrame'>\n",
      "Int64Index: 891 entries, 1 to 891\n",
      "Data columns (total 11 columns):\n",
      " #   Column    Non-Null Count  Dtype  \n",
      "---  ------    --------------  -----  \n",
      " 0   Survived  891 non-null    int64  \n",
      " 1   Pclass    891 non-null    int64  \n",
      " 2   Name      891 non-null    object \n",
      " 3   Sex       891 non-null    object \n",
      " 4   Age       714 non-null    float64\n",
      " 5   SibSp     891 non-null    int64  \n",
      " 6   Parch     891 non-null    int64  \n",
      " 7   Ticket    891 non-null    object \n",
      " 8   Fare      891 non-null    float64\n",
      " 9   Cabin     204 non-null    object \n",
      " 10  Embarked  889 non-null    object \n",
      "dtypes: float64(2), int64(4), object(5)\n",
      "memory usage: 83.5+ KB\n"
     ]
    }
   ],
   "source": [
    "train.info()"
   ]
  },
  {
   "cell_type": "code",
   "execution_count": 7,
   "metadata": {},
   "outputs": [
    {
     "data": {
      "image/png": "[encoded data removed]",
      "text/plain": [
       "<Figure size 1080x720 with 2 Axes>"
      ]
     },
     "metadata": {
      "needs_background": "light"
     },
     "output_type": "display_data"
    },
    {
     "name": "stdout",
     "output_type": "stream",
     "text": [
      "mean fare is:  32.2042079685746\n",
      "median fare is:  14.4542\n"
     ]
    }
   ],
   "source": [
    "# checking outliers in 'Fare' column\n",
    "plt.figure(figsize=(15, 10))\n",
    "plt.subplot(3,3,1)\n",
    "sns.boxplot(train.Fare)\n",
    "plt.title('Box plot')\n",
    "plt.xlabel(\"Fare\")\n",
    "plt.subplot(2,2,2)\n",
    "sns.distplot(train.Fare)\n",
    "plt.title('Fare distribution')\n",
    "plt.xlabel('Fare')\n",
    "plt.ylabel('% of all')\n",
    "plt.subplots_adjust(bottom=0.25, top=0.75)\n",
    "plt.show()\n",
    "print('mean fare is: ',train.Fare.mean())\n",
    "print('median fare is: ',train.Fare.median())"
   ]
  },
  {
   "cell_type": "code",
   "execution_count": 8,
   "metadata": {
    "scrolled": true
   },
   "outputs": [
    {
     "data": {
      "image/png": "[encoded data removed]",
      "text/plain": [
       "<Figure size 1080x720 with 2 Axes>"
      ]
     },
     "metadata": {
      "needs_background": "light"
     },
     "output_type": "display_data"
    },
    {
     "name": "stdout",
     "output_type": "stream",
     "text": [
      "29.69911764705882\n",
      "28.0\n"
     ]
    }
   ],
   "source": [
    "# checking outliers in 'Fare' column\n",
    "plt.figure(figsize=(15, 10))\n",
    "plt.subplot(2,2,1)\n",
    "sns.boxplot(train.Age)\n",
    "plt.title('Box plot')\n",
    "plt.xlabel(\"Fare\")\n",
    "plt.subplot(2,2,2)\n",
    "sns.distplot(train.Age)\n",
    "plt.title('Age distribution')\n",
    "plt.xlabel('Fare')\n",
    "plt.ylabel('% of all')\n",
    "plt.subplots_adjust(bottom=0.25, top=0.75)\n",
    "plt.show()\n",
    "print(train.Age.mean())\n",
    "print(train.Age.median())"
   ]
  },
  {
   "cell_type": "code",
   "execution_count": 9,
   "metadata": {},
   "outputs": [
    {
     "data": {
      "text/plain": [
       "<matplotlib.axes._subplots.AxesSubplot at 0x7fab7fd7ddd0>"
      ]
     },
     "execution_count": 9,
     "metadata": {},
     "output_type": "execute_result"
    },
    {
     "data": {
      "image/png": "[encoded data removed]",
      "text/plain": [
       "<Figure size 432x288 with 2 Axes>"
      ]
     },
     "metadata": {
      "needs_background": "light"
     },
     "output_type": "display_data"
    }
   ],
   "source": [
    "sns.heatmap(train.corr())"
   ]
  },
  {
   "cell_type": "code",
   "execution_count": 23,
   "metadata": {
    "scrolled": true
   },
   "outputs": [
    {
     "data": {
      "image/png": "[encoded data removed]",
      "text/plain": [
       "<Figure size 432x432 with 1 Axes>"
      ]
     },
     "metadata": {
      "needs_background": "light"
     },
     "output_type": "display_data"
    }
   ],
   "source": [
    "plt.figure(figsize=(6, 6))\n",
    "sns.swarmplot(data = train, x = 'Sex', y='Age', hue='Survived')\n",
    "plt.show()"
   ]
  },
  {
   "cell_type": "markdown",
   "metadata": {},
   "source": [
    "###### EDA showed that the data set has a lot of missing data and existence of outliers. We will skip outliers now, but of course will handle the missing data problem."
   ]
  },
  {
   "cell_type": "markdown",
   "metadata": {},
   "source": [
    "### Step 2. Data clearning"
   ]
  },
  {
   "cell_type": "markdown",
   "metadata": {},
   "source": [
    "Features engineering ideas and code was taken from this article https://triangleinequality.wordpress.com/2013/09/08/basic-feature-engineering-with-the-titanic-data/"
   ]
  },
  {
   "cell_type": "code",
   "execution_count": 9,
   "metadata": {},
   "outputs": [],
   "source": [
    "# Creating label for social status\n",
    "\n",
    "import string\n",
    "def substrings_in_string(big_string, substrings):\n",
    "    for substring in substrings:\n",
    "        if str.find(big_string, substring) != -1:\n",
    "            return substring\n",
    "    print (big_string)\n",
    "    return np.nan\n",
    "\n",
    "title_list=['Mrs', 'Mr', 'Master', 'Miss', 'Major', 'Rev',\n",
    "                    'Dr', 'Ms', 'Mlle','Col', 'Capt', 'Mme', 'Countess',\n",
    "                    'Don', 'Jonkheer']\n",
    "\n",
    "train['Title'] = train['Name'].map(lambda x: substrings_in_string(x, title_list))\n",
    "test['Title'] = test['Name'].map(lambda x: substrings_in_string(x, title_list))\n",
    " \n",
    "#replacing all titles with mr, mrs, miss, master\n",
    "def replace_titles(x):\n",
    "    title=x['Title']\n",
    "    if title in ['Don', 'Major', 'Capt', 'Jonkheer', 'Rev', 'Col']:\n",
    "        return 'Mr'\n",
    "    elif title in ['Countess', 'Mme']:\n",
    "        return 'Mrs'\n",
    "    elif title in ['Mlle', 'Ms']:\n",
    "        return 'Miss'\n",
    "    elif title =='Dr':\n",
    "        if x['Sex']=='Male':\n",
    "            return 'Mr'\n",
    "        else:\n",
    "            return 'Mrs'\n",
    "    else:\n",
    "        return title\n",
    "    \n",
    "train['Title']=train.apply(replace_titles, axis=1)\n",
    "test['Title']=test.apply(replace_titles, axis=1)"
   ]
  },
  {
   "cell_type": "code",
   "execution_count": 10,
   "metadata": {},
   "outputs": [],
   "source": [
    "# Creating additional feature family size\n",
    "train['Family_size']=train.SibSp+train.Parch\n",
    "test['Family_size']=test.SibSp+test.Parch"
   ]
  },
  {
   "cell_type": "code",
   "execution_count": 11,
   "metadata": {},
   "outputs": [],
   "source": [
    "# category decoder\n",
    "train.Sex.replace({'male':0, 'female':1}, inplace=True)\n",
    "test.Sex.replace({'male':0, 'female':1}, inplace=True)"
   ]
  },
  {
   "cell_type": "code",
   "execution_count": 12,
   "metadata": {},
   "outputs": [],
   "source": [
    "category_list=['Survived', 'Pclass', 'Sex']\n",
    "\n",
    "train[category_list] = train[category_list].astype('category')\n",
    "\n",
    "category_list_test=['Pclass', 'Sex']\n",
    "\n",
    "test[category_list_test] = test[category_list_test].astype('category')"
   ]
  },
  {
   "cell_type": "code",
   "execution_count": 13,
   "metadata": {},
   "outputs": [],
   "source": [
    "#Solving problems with  columns that include missing data and not suitable information\n",
    "train.Age.fillna(value=test.Age.mean(), inplace=True)\n",
    "test.Age.fillna(value=test.Age.mean(), inplace=True)\n",
    "\n",
    "#Drop unsuitable for the further work features\n",
    "list_todrop=['Cabin','Embarked', 'Ticket', 'Name']\n",
    "train.drop(list_todrop, axis=1, inplace=True)\n",
    "test.drop(list_todrop, axis=1, inplace=True)"
   ]
  },
  {
   "cell_type": "code",
   "execution_count": 14,
   "metadata": {},
   "outputs": [],
   "source": [
    "# Get dummies variables\n",
    "train = pd.get_dummies(train, columns=['Pclass', 'Title'])\n",
    "test = pd.get_dummies(test, columns=['Pclass', 'Title'])"
   ]
  },
  {
   "cell_type": "code",
   "execution_count": 15,
   "metadata": {},
   "outputs": [],
   "source": [
    "# Additional to the fare column in the test set, compute average in the Pclass_3 and replace with it nan values\n",
    "PC_3_Mean = test[test['Pclass_3']==1].Fare.mean()\n",
    "test.Fare.fillna(value=PC_3_Mean, inplace=True)"
   ]
  },
  {
   "cell_type": "markdown",
   "metadata": {},
   "source": [
    "### Step 3. Building a  model"
   ]
  },
  {
   "cell_type": "code",
   "execution_count": 16,
   "metadata": {},
   "outputs": [],
   "source": [
    "#Setup parametrs\n",
    "X_train = train.loc[1:].drop('Survived', axis=1)\n",
    "y_train = train.loc[1:].Survived = train.Survived\n",
    "\n"
   ]
  },
  {
   "cell_type": "code",
   "execution_count": 17,
   "metadata": {},
   "outputs": [
    {
     "name": "stdout",
     "output_type": "stream",
     "text": [
      "Tuned Logistic Regression Parameters: {'logreg__C': 0.08858667904100832}\n",
      "Best score is 0.8237775406440274\n"
     ]
    }
   ],
   "source": [
    "### Logistic regression with c-parametr tuning ###\n",
    "\n",
    "steps_logreg = [('scaler', StandardScaler()),\n",
    "         ('logreg', LogisticRegression())]\n",
    "\n",
    "\n",
    "# Setup the hyperparameter grid\n",
    "c_space = np.logspace(-5, 10, 20)\n",
    "param_grid = {'logreg__C': c_space}\n",
    "\n",
    "pipline_logreg = Pipeline(steps_logreg)\n",
    "\n",
    "\n",
    "# Instantiate the GridSearchCV object: logreg_cv\n",
    "logreg_cv = GridSearchCV(pipline_logreg, param_grid, cv=5)\n",
    "\n",
    "\n",
    "# Fit it to the data\n",
    "logreg_cv.fit(X_train, y_train)  ######Better  use training data, not whole data\n",
    "\n",
    "\n",
    "# Print the tuned parameters and score\n",
    "print(\"Tuned Logistic Regression Parameters: {}\".format(logreg_cv.best_params_)) \n",
    "print(\"Best score is {}\".format(logreg_cv.best_score_))"
   ]
  },
  {
   "cell_type": "code",
   "execution_count": 18,
   "metadata": {},
   "outputs": [
    {
     "name": "stdout",
     "output_type": "stream",
     "text": [
      "Tuned KNN Parameters: {'knn__n_neighbors': 5}\n",
      "Best score is 0.8193333751804659\n"
     ]
    }
   ],
   "source": [
    "### KNN with a number of neighbors tuning ###\n",
    "\n",
    "\n",
    "# Import necessary modules\n",
    "from sklearn.neighbors import KNeighborsClassifier\n",
    "\n",
    "\n",
    "# Setup the pipeline\n",
    "steps = [('scaler', StandardScaler()),\n",
    "         ('knn', KNeighborsClassifier())]\n",
    "\n",
    "pipeline_knn = Pipeline(steps)\n",
    "\n",
    "\n",
    "\n",
    "# Setup the hyperparameter grid\n",
    "param_grid = {'knn__n_neighbors': np.array(range(1,9))}\n",
    "\n",
    "# Instantiate a KNN classifier: knn\n",
    "\n",
    "# Instantiate the GridSearchCV object: knn_cv\n",
    "knn_cv = GridSearchCV(pipeline_knn, param_grid, cv=5)\n",
    "\n",
    "# Fit it to the data\n",
    "knn_cv.fit(X_train, y_train)  ######Better  use training data, not whole data\n",
    "\n",
    "# Print the tuned parameters and score\n",
    "print(\"Tuned KNN Parameters: {}\".format(knn_cv.best_params_)) \n",
    "print(\"Best score is {}\".format(knn_cv.best_score_))"
   ]
  },
  {
   "cell_type": "code",
   "execution_count": 19,
   "metadata": {},
   "outputs": [
    {
     "name": "stdout",
     "output_type": "stream",
     "text": [
      "Tuned Decision Tree Parameters: {'criterion': 'gini', 'max_depth': None, 'max_features': 4, 'min_samples_leaf': 4}\n",
      "Best score is 0.827154604230745\n"
     ]
    }
   ],
   "source": [
    "### Decision tree model with hyper parametrs tuning ###\n",
    "\n",
    "# Setup the parameters and distributions to sample from: param_dist - _just a list of parametrs to check_\n",
    "param_dist = {\"max_depth\": [3, None],\n",
    "              \"max_features\": np.array(range(1,7)),\n",
    "              \"min_samples_leaf\": np.array(range(1,7)),\n",
    "              \"criterion\": [\"gini\", \"entropy\"]}\n",
    "\n",
    "# Instantiate a Decision Tree classifier: tree\n",
    "tree = DecisionTreeClassifier()\n",
    "\n",
    "# Instantiate the RandomizedSearchCV object: tree_cv\n",
    "tree_cv = GridSearchCV(tree, param_dist, cv=5)\n",
    "\n",
    "# Fit it to the data\n",
    "\n",
    "tree_cv.fit(X_train,y_train)\n",
    "\n",
    "# Print the tuned parameters and score\n",
    "print(\"Tuned Decision Tree Parameters: {}\".format(tree_cv.best_params_))\n",
    "print(\"Best score is {}\".format(tree_cv.best_score_))"
   ]
  },
  {
   "cell_type": "code",
   "execution_count": 20,
   "metadata": {},
   "outputs": [
    {
     "name": "stdout",
     "output_type": "stream",
     "text": [
      "Tuned Random Forest Parameters: {'criterion': 'gini', 'max_depth': 4, 'max_features': 'auto', 'min_samples_leaf': 1, 'n_estimators': 100}\n",
      "Best score is 0.8338945005611672\n"
     ]
    }
   ],
   "source": [
    "\n",
    "### Define the dictionary 'params_rf'\n",
    "params_rf = {\n",
    "    'n_estimators':[int(x) for x in np.linspace(start = 100, stop = 500, num = 4)],\n",
    "    'max_features':['log2','auto','sqrt'],\n",
    "    'max_depth' : np.array(range(1,7)),\n",
    "    'min_samples_leaf':[int(x) for x in np.linspace(start = 1, stop = 10, num = 4)],\n",
    "    'criterion': ['gini', 'entropy']}\n",
    "\n",
    "\n",
    "\n",
    "### Setup a model\n",
    "# Import GridSearchCV\n",
    "from sklearn.model_selection import GridSearchCV\n",
    "rf = RandomForestClassifier()\n",
    "\n",
    "# Instantiate grid_rf\n",
    "grid_rf = GridSearchCV(estimator=rf,\n",
    "                       param_grid=params_rf,\n",
    "                       cv=3)\n",
    "\n",
    "grid_rf.fit(X_train, y_train)\n",
    "\n",
    "\n",
    "print(\"Tuned Random Forest Parameters: {}\".format(grid_rf.best_params_))\n",
    "print(\"Best score is {}\".format(grid_rf.best_score_))\n"
   ]
  },
  {
   "cell_type": "code",
   "execution_count": 21,
   "metadata": {},
   "outputs": [
    {
     "data": {
      "text/plain": [
       "0.8148013307388112"
      ]
     },
     "execution_count": 21,
     "metadata": {},
     "output_type": "execute_result"
    }
   ],
   "source": [
    "### GaussianNB model ###\n",
    "\n",
    "G_NB = GaussianNB()\n",
    "\n",
    "G_NB_scores = cross_val_score(\n",
    "        G_NB, X_train, y_train,\n",
    "        cv=5)\n",
    "\n",
    "G_NB_scores.mean()"
   ]
  },
  {
   "cell_type": "code",
   "execution_count": 22,
   "metadata": {},
   "outputs": [
    {
     "name": "stdout",
     "output_type": "stream",
     "text": [
      "Tuned Model Parameters: {'SVM__C': 10, 'SVM__gamma': 0.01}\n",
      "Best score is 0.8327537505492437\n"
     ]
    }
   ],
   "source": [
    "### SVM model ###\n",
    "\n",
    "# Setup the pipeline\n",
    "steps = [('scaler', StandardScaler()),\n",
    "         ('SVM', SVC())]\n",
    "\n",
    "pipeline = Pipeline(steps)\n",
    "\n",
    "# Specify the hyperparameter space\n",
    "parameters = {'SVM__C':[1, 10, 100],\n",
    "              'SVM__gamma':[0.1, 0.01]}\n",
    "#Specify the hyperparameter space for the C and gamma \n",
    "#the following notation:'step_name__parameter_name'. Here, the step_name is SVM, and the parameter_name is C/gamma.\n",
    "\n",
    "\n",
    "# Instantiate the GridSearchCV object: cv\n",
    "SVC = GridSearchCV(pipeline, parameters, cv=5)\n",
    "\n",
    "# Fit to the training set\n",
    "SVC.fit(X_train, y_train)\n",
    "\n",
    "# Compute and print metrics\n",
    "print(\"Tuned Model Parameters: {}\".format(SVC.best_params_))\n",
    "print(\"Best score is {}\".format(SVC.best_score_))"
   ]
  },
  {
   "cell_type": "code",
   "execution_count": 23,
   "metadata": {},
   "outputs": [
    {
     "name": "stdout",
     "output_type": "stream",
     "text": [
      "Tuned Model Parameters: {'base_estimator__criterion': 'gini', 'base_estimator__splitter': 'best', 'n_estimators': 2}\n",
      "Best score is 0.8170594837261503\n"
     ]
    }
   ],
   "source": [
    "### Set up AdaBoostClassifier\n",
    "\n",
    "# Import AdaBoostClassifier\n",
    "from sklearn.ensemble import AdaBoostClassifier\n",
    "\n",
    "# Parametrs for griding\n",
    "param_grid = {\"base_estimator__criterion\" : [\"gini\", \"entropy\"],\n",
    "              \"base_estimator__splitter\" :   [\"best\", \"random\"],\n",
    "              \"n_estimators\": [1, 2]\n",
    "             }\n",
    "\n",
    "\n",
    "# Instantiate dt\n",
    "dt = DecisionTreeClassifier(max_depth=2, random_state=1)\n",
    "\n",
    "# Instantiate ada\n",
    "ada = AdaBoostClassifier(base_estimator=dt)\n",
    "\n",
    "\n",
    "grid_ada = GridSearchCV(estimator=ada,\n",
    "                       param_grid=param_grid,\n",
    "                       cv=3)\n",
    "\n",
    "### Fitting the model and predicting probability of their decisions\n",
    "# Fit ada to the training set\n",
    "grid_ada.fit(X_train, y_train)\n",
    "\n",
    "\n",
    "\n",
    "# Compute and print metrics\n",
    "print(\"Tuned Model Parameters: {}\".format(grid_ada.best_params_))\n",
    "print(\"Best score is {}\".format(grid_ada.best_score_))"
   ]
  },
  {
   "cell_type": "code",
   "execution_count": 24,
   "metadata": {},
   "outputs": [
    {
     "name": "stdout",
     "output_type": "stream",
     "text": [
      "Tuned Model Parameters: {'alpha': 0.1}\n",
      "Best score is 0.7890011223344556\n"
     ]
    }
   ],
   "source": [
    "### Naive Bayes model\n",
    "\n",
    "parameters_nb = [{'alpha':np.linspace(0.1,1,10)}]\n",
    "\n",
    "BNB = BernoulliNB()\n",
    "grid_BNB = GridSearchCV(estimator=BNB,\n",
    "                       param_grid=parameters_nb,\n",
    "                       cv=3)\n",
    "grid_BNB.fit(X_train, y_train)\n",
    "\n",
    "print(\"Tuned Model Parameters: {}\".format(grid_BNB.best_params_))\n",
    "print(\"Best score is {}\".format(grid_BNB.best_score_))"
   ]
  },
  {
   "cell_type": "code",
   "execution_count": 25,
   "metadata": {},
   "outputs": [],
   "source": [
    "models_score = ({\n",
    "    'AdaBoost' : grid_ada.best_score_,\n",
    "'SVC' : SVC.best_score_,\n",
    "'Random Forest' : grid_rf.best_score_,\n",
    "'Desicion tree': tree_cv.best_score_,\n",
    "'KNN': knn_cv.best_score_,\n",
    " 'Logistic regression': logreg_cv.best_score_,\n",
    "'Gaussin NB': G_NB_scores.mean(),\n",
    "'Beroulli_NB': grid_BNB.best_score_})\n",
    "models_score = pd.Series(models_score).to_frame('Model_score')\n",
    "models_score = pd.DataFrame(models_score).reset_index()\n",
    "models_score.rename(columns={'index':'Model_name'}, inplace=True)\n",
    "models_score.sort_values(by='Model_score', inplace=True, ascending=False)"
   ]
  },
  {
   "cell_type": "code",
   "execution_count": 26,
   "metadata": {},
   "outputs": [
    {
     "data": {
      "image/png": "[encoded data removed]",
      "text/plain": [
       "<Figure size 432x288 with 1 Axes>"
      ]
     },
     "metadata": {
      "needs_background": "light"
     },
     "output_type": "display_data"
    }
   ],
   "source": [
    "sns.barplot(x='Model_score',y='Model_name', data=models_score)\n",
    "plt.show()"
   ]
  },
  {
   "cell_type": "markdown",
   "metadata": {},
   "source": [
    "### Step 4. DEEP LEARNING MODELS"
   ]
  },
  {
   "cell_type": "markdown",
   "metadata": {},
   "source": [
    "### Basic Keras Model - with one layer \n",
    "\n",
    "We initialize our model, add a layer that inputs vectors of length 13 and outputs vectors of length 2, and finally add a softmax layer. We configure the learning process in the compilation step by specifying the optimizer, loss function and performance metric.\n",
    "\n",
    "Stochastic gradient descent acts by changing the weights gradually in the 'direction' that decreases the average loss. In other words, a particular weight would be increased if acts to decrease loss, or the weight decreased if it acts to increase loss."
   ]
  },
  {
   "cell_type": "markdown",
   "metadata": {},
   "source": [
    "=====================================================================================================================\n",
    "_ADDITIONAL: If you have problems with kernel - next steps to fix it_\n",
    "\n",
    "_1) pip uninstall PyQt5_\n",
    "\n",
    "_2) conda update conda_\n",
    "\n",
    "_3) conda update anaconda-navigator_\n",
    "\n",
    "_4) conda install --force-reinstall pyqt qt_\n",
    "\n",
    "_5) pip install --force-reinstall tensorflow_\n",
    "\n",
    "====================================================================================================================="
   ]
  },
  {
   "cell_type": "code",
   "execution_count": 30,
   "metadata": {},
   "outputs": [],
   "source": [
    "from sklearn.model_selection import train_test_split\n",
    "scaler = StandardScaler()\n",
    "\n",
    "X_norm = scaler.fit_transform(X_train.values)\n",
    "y_norm = y_train.values\n",
    "\n",
    "X_train_dl, X_test_dl, y_train_dl, y_test_dl = train_test_split(X_norm, y_norm, test_size=0.20, random_state=42)\n",
    "y_train_onehot = pd.get_dummies(y_train_dl).values\n",
    "y_test_onehot = pd.get_dummies(y_test_dl).values"
   ]
  },
  {
   "cell_type": "code",
   "execution_count": 31,
   "metadata": {
    "scrolled": true
   },
   "outputs": [
    {
     "name": "stdout",
     "output_type": "stream",
     "text": [
      "Epoch 1/10\n",
      "712/712 [==============================] - 0s 433us/step - loss: 0.6957 - accuracy: 0.6264\n",
      "Epoch 2/10\n",
      "712/712 [==============================] - 0s 76us/step - loss: 0.6005 - accuracy: 0.7556\n",
      "Epoch 3/10\n",
      "712/712 [==============================] - 0s 71us/step - loss: 0.5436 - accuracy: 0.7865\n",
      "Epoch 4/10\n",
      "712/712 [==============================] - 0s 64us/step - loss: 0.5101 - accuracy: 0.7963\n",
      "Epoch 5/10\n",
      "712/712 [==============================] - 0s 68us/step - loss: 0.4871 - accuracy: 0.8020\n",
      "Epoch 6/10\n",
      "712/712 [==============================] - 0s 99us/step - loss: 0.4708 - accuracy: 0.8048\n",
      "Epoch 7/10\n",
      "712/712 [==============================] - 0s 71us/step - loss: 0.4601 - accuracy: 0.8062\n",
      "Epoch 8/10\n",
      "712/712 [==============================] - 0s 63us/step - loss: 0.4515 - accuracy: 0.8104\n",
      "Epoch 9/10\n",
      "712/712 [==============================] - 0s 88us/step - loss: 0.4452 - accuracy: 0.8132\n",
      "Epoch 10/10\n",
      "712/712 [==============================] - 0s 57us/step - loss: 0.4408 - accuracy: 0.8146\n"
     ]
    },
    {
     "data": {
      "text/plain": [
       "<keras.callbacks.callbacks.History at 0x7f7f16c7cd90>"
      ]
     },
     "execution_count": 31,
     "metadata": {},
     "output_type": "execute_result"
    }
   ],
   "source": [
    "# pip install tensorflow keras - if necessary to install keras model\n",
    "\n",
    "model = Sequential()\n",
    "model.add(Dense(input_dim=13, units=2))\n",
    "model.add(Activation(\"softmax\"))\n",
    "\n",
    "model.compile(loss='categorical_crossentropy', optimizer='sgd', metrics=['accuracy'])\n",
    "\n",
    "# early_stopping_monitor = EarlyStopping(patience=2)\n",
    "model.fit(X_train_dl, y_train_onehot, epochs=10)\n"
   ]
  },
  {
   "cell_type": "code",
   "execution_count": 32,
   "metadata": {},
   "outputs": [
    {
     "name": "stdout",
     "output_type": "stream",
     "text": [
      "\n",
      "\n",
      "accuracy 0.7988826815642458\n"
     ]
    }
   ],
   "source": [
    "y_prediction = model.predict_classes(X_test_dl)\n",
    "print (\"\\n\\naccuracy\", np.sum(y_prediction == y_test_dl) / float(len(y_test_dl)))"
   ]
  },
  {
   "cell_type": "markdown",
   "metadata": {},
   "source": [
    "Let's add one more layer."
   ]
  },
  {
   "cell_type": "code",
   "execution_count": 33,
   "metadata": {},
   "outputs": [
    {
     "name": "stdout",
     "output_type": "stream",
     "text": [
      "Epoch 1/10\n",
      "712/712 [==============================] - 0s 171us/step - loss: 0.5432 - accuracy: 0.7388\n",
      "Epoch 2/10\n",
      "712/712 [==============================] - 0s 108us/step - loss: 0.4604 - accuracy: 0.8048\n",
      "Epoch 3/10\n",
      "712/712 [==============================] - 0s 89us/step - loss: 0.4385 - accuracy: 0.8174\n",
      "Epoch 4/10\n",
      "712/712 [==============================] - 0s 71us/step - loss: 0.4299 - accuracy: 0.8287\n",
      "Epoch 5/10\n",
      "712/712 [==============================] - 0s 90us/step - loss: 0.4252 - accuracy: 0.8315\n",
      "Epoch 6/10\n",
      "712/712 [==============================] - 0s 77us/step - loss: 0.4232 - accuracy: 0.8315\n",
      "Epoch 7/10\n",
      "712/712 [==============================] - 0s 120us/step - loss: 0.4222 - accuracy: 0.8301\n",
      "Epoch 8/10\n",
      "712/712 [==============================] - 0s 64us/step - loss: 0.4218 - accuracy: 0.8315\n",
      "Epoch 9/10\n",
      "712/712 [==============================] - 0s 100us/step - loss: 0.4218 - accuracy: 0.8315\n",
      "Epoch 10/10\n",
      "712/712 [==============================] - 0s 161us/step - loss: 0.4204 - accuracy: 0.8301\n"
     ]
    },
    {
     "data": {
      "text/plain": [
       "<keras.callbacks.callbacks.History at 0x7f7f16c2bb50>"
      ]
     },
     "execution_count": 33,
     "metadata": {},
     "output_type": "execute_result"
    }
   ],
   "source": [
    "model = Sequential()\n",
    "model.add(Dense(input_dim=13, units=100))\n",
    "model.add(Dense(units=100))\n",
    "model.add(Dense(units=2))\n",
    "model.add(Activation(\"softmax\"))\n",
    "\n",
    "model.compile(loss='categorical_crossentropy', optimizer='sgd', metrics=['accuracy'])\n",
    "\n",
    "model.fit(X_train_dl, y_train_onehot, epochs=10)"
   ]
  },
  {
   "cell_type": "code",
   "execution_count": 34,
   "metadata": {},
   "outputs": [
    {
     "name": "stdout",
     "output_type": "stream",
     "text": [
      "\n",
      "\n",
      "accuracy 0.8100558659217877\n"
     ]
    }
   ],
   "source": [
    "y_prediction = model.predict_classes(X_test_dl)\n",
    "print (\"\\n\\naccuracy\", np.sum(y_prediction == y_test_dl) / float(len(y_test_dl)))"
   ]
  },
  {
   "cell_type": "markdown",
   "metadata": {},
   "source": [
    "### 5. Computing The Final Result"
   ]
  },
  {
   "cell_type": "markdown",
   "metadata": {},
   "source": [
    "### DL_prediction"
   ]
  },
  {
   "cell_type": "code",
   "execution_count": 35,
   "metadata": {},
   "outputs": [],
   "source": [
    "X_test_norm = scaler.fit_transform(test.values)\n",
    "y_test_prediction_dl = model.predict_classes(X_test_norm)\n",
    "dl_prediction = pd.Series(y_test_prediction_dl, index= list(range(892,1310))).to_frame('Survived')\n",
    "dl_prediction.index.name= 'PassengerId'\n",
    "dl_prediction.to_csv('/Users/anatolyabramovich/Desktop/Documents/Study/Kaggle/Titanic/DL_prediction.csv')\n",
    "# kaggle score 0.77990"
   ]
  },
  {
   "cell_type": "markdown",
   "metadata": {},
   "source": [
    "### RF_prediction"
   ]
  },
  {
   "cell_type": "code",
   "execution_count": 37,
   "metadata": {},
   "outputs": [],
   "source": [
    "prediction_rf = grid_rf.predict(test)\n",
    "rf_prediction = pd.Series(prediction_rf, index= list(range(892,1310))).to_frame('Survived')\n",
    "rf_prediction.index.name= 'PassengerId'\n",
    "# kaggle score 0.78468"
   ]
  },
  {
   "cell_type": "code",
   "execution_count": null,
   "metadata": {},
   "outputs": [],
   "source": []
  }
 ],
 "metadata": {
  "kernelspec": {
   "display_name": "Python 3",
   "language": "python",
   "name": "python3"
  },
  "language_info": {
   "codemirror_mode": {
    "name": "ipython",
    "version": 3
   },
   "file_extension": ".py",
   "mimetype": "text/x-python",
   "name": "python",
   "nbconvert_exporter": "python",
   "pygments_lexer": "ipython3",
   "version": "3.7.6"
  }
 },
 "nbformat": 4,
 "nbformat_minor": 4
}
